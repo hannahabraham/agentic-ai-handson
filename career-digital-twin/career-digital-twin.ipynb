{
 "cells": [
  {
   "cell_type": "code",
   "execution_count": 2,
   "id": "fc1cc107",
   "metadata": {},
   "outputs": [],
   "source": [
    "import os\n",
    "from dotenv import load_dotenv\n",
    "from openai import OpenAI\n",
    "import json\n",
    "import os\n",
    "import requests\n",
    "from pypdf import PdfReader\n",
    "import gradio as gr"
   ]
  },
  {
   "cell_type": "code",
   "execution_count": 3,
   "id": "eb778548",
   "metadata": {},
   "outputs": [],
   "source": [
    "load_dotenv(override=True)\n",
    "openai= OpenAI()"
   ]
  },
  {
   "cell_type": "code",
   "execution_count": 4,
   "id": "c7ca8aa8",
   "metadata": {},
   "outputs": [
    {
     "name": "stdout",
     "output_type": "stream",
     "text": [
      "Pushover user found and starts with u\n",
      "Pushover token found and starts with a\n"
     ]
    }
   ],
   "source": [
    "pushover_user =os.getenv(\"PUSHOVER_USER\")\n",
    "pushover_token =os.getenv(\"PUSHOVER_TOKEN\")\n",
    "pushover_url=\"https://api.pushover.net/1/messages.json\"\n",
    "if pushover_user:\n",
    "    print(f\"Pushover user found and starts with {pushover_user[0]}\")\n",
    "else:\n",
    "    print(\"Pushover user not found\")\n",
    "\n",
    "if pushover_token:\n",
    "    print(f\"Pushover token found and starts with {pushover_token[0]}\")\n",
    "else:\n",
    "    print(\"Pushover token not found\")"
   ]
  },
  {
   "cell_type": "code",
   "execution_count": 5,
   "id": "0facf082",
   "metadata": {},
   "outputs": [],
   "source": [
    "def push(message):\n",
    "    print(f\"Push:{message}\")\n",
    "    payload={\"user\":pushover_user,\"token\":pushover_token,\"message\":message}\n",
    "    requests.post(pushover_url,data=payload)"
   ]
  },
  {
   "cell_type": "code",
   "execution_count": 6,
   "id": "b716eca5",
   "metadata": {},
   "outputs": [
    {
     "name": "stdout",
     "output_type": "stream",
     "text": [
      "Push:Hey!!\n"
     ]
    }
   ],
   "source": [
    "push(\"Hey!!\")"
   ]
  },
  {
   "cell_type": "code",
   "execution_count": 7,
   "id": "3634d05b",
   "metadata": {},
   "outputs": [],
   "source": [
    "def record_user_details(email,name=\"Name not provided\",notes=\"not_provided\"):\n",
    "    push(f\"Recording interest from {name} with email {email} and notes {notes}\")\n",
    "    return{\"recorded\":\"ok\"}"
   ]
  },
  {
   "cell_type": "code",
   "execution_count": 8,
   "id": "93e8f293",
   "metadata": {},
   "outputs": [],
   "source": [
    "def record_unknown_question(question):\n",
    "    push(f\"Recording {question} asked that I couldn't answer\")\n",
    "    return{\"recorded\":\"ok\"}"
   ]
  },
  {
   "cell_type": "code",
   "execution_count": 9,
   "id": "db736e05",
   "metadata": {},
   "outputs": [],
   "source": [
    "record_user_details_json={\n",
    "    \"name\":\"record_user_details\",\n",
    "    \"description\":\"Use this tool to record that a user is interested in being in touch and provided an email address\",\n",
    "    \"paramters\":{\n",
    "        \"type\":\"object\",\n",
    "        \"properties\":{\n",
    "            \"email\":{\n",
    "                \"type\":\"string\",\n",
    "                \"description\":\"The email address of this user\"\n",
    "            },\n",
    "            \"name\":{\n",
    "                \"type\":\"string\",\n",
    "                \"description\":\"The user's name, if provided\"\n",
    "            },\n",
    "            \"notes\":{\n",
    "                \"type\":\"string\",\n",
    "                \"description\":\"Any additional information about the conversation that's worth recording to give context\"\n",
    "            },\n",
    "            \"required\":[\"email\"],\n",
    "            \"additionalProperties\":False\n",
    "    }\n",
    "}}"
   ]
  },
  {
   "cell_type": "code",
   "execution_count": 10,
   "id": "9410ee35",
   "metadata": {},
   "outputs": [],
   "source": [
    "record_unknown_question_json ={\n",
    "    \"name\":\"record_unknown_question\",\n",
    "    \"description\":\"Always use this tool to record any question that couldnt be answered as you didnt knoe the answer\",\n",
    "    \"parameters\" :{\n",
    "        \"type\":\"object\",\n",
    "        \"properties\":{\n",
    "            \"question\":{\n",
    "                \"type\":\"string\",\n",
    "                \"description\":\"The question that couldn't be answered\"\n",
    "            },\n",
    "        },\n",
    "        \"required\":[\"question\"],\n",
    "        \"additionalProperties\":False\n",
    "    }\n",
    "}"
   ]
  },
  {
   "cell_type": "code",
   "execution_count": 11,
   "id": "de8fff45",
   "metadata": {},
   "outputs": [],
   "source": [
    "tools=[{\"type\":\"function\",\"function\":record_user_details_json},\n",
    "{\"type\":\"function\",\"function\":record_unknown_question_json}]"
   ]
  },
  {
   "cell_type": "code",
   "execution_count": 12,
   "id": "95db3e5b",
   "metadata": {},
   "outputs": [
    {
     "data": {
      "text/plain": [
       "[{'type': 'function',\n",
       "  'function': {'name': 'record_user_details',\n",
       "   'description': 'Use this tool to record that a user is interested in being in touch and provided an email address',\n",
       "   'paramters': {'type': 'object',\n",
       "    'properties': {'email': {'type': 'string',\n",
       "      'description': 'The email address of this user'},\n",
       "     'name': {'type': 'string', 'description': \"The user's name, if provided\"},\n",
       "     'notes': {'type': 'string',\n",
       "      'description': \"Any additional information about the conversation that's worth recording to give context\"},\n",
       "     'required': ['email'],\n",
       "     'additionalProperties': False}}}},\n",
       " {'type': 'function',\n",
       "  'function': {'name': 'record_unknown_question',\n",
       "   'description': 'Always use this tool to record any question that couldnt be answered as you didnt knoe the answer',\n",
       "   'parameters': {'type': 'object',\n",
       "    'properties': {'question': {'type': 'string',\n",
       "      'description': \"The question that couldn't be answered\"}},\n",
       "    'required': ['question'],\n",
       "    'additionalProperties': False}}}]"
      ]
     },
     "execution_count": 12,
     "metadata": {},
     "output_type": "execute_result"
    }
   ],
   "source": [
    "tools"
   ]
  },
  {
   "cell_type": "code",
   "execution_count": 13,
   "id": "5e9bda54",
   "metadata": {},
   "outputs": [],
   "source": [
    "# This function can take a list of tool calls and run them.\n",
    "def handle_tool_calls(tool_calls):\n",
    "    results = []\n",
    "    for tool_call in tool_calls:\n",
    "        tool_name =tool_call.function.name\n",
    "        arguments = json.loads(tool_call.function.arguments)\n",
    "        print(f\"Tool called: {tool_name}\",flush=True)\n",
    "\n",
    "        if tool_name == \"record_user_details\":\n",
    "            result = record_user_details(**arguments)\n",
    "        elif tool_name ==\"record_unknown_question\":\n",
    "            result = record_unknown_question(**arguments)\n",
    "        results.append({\"role\":\"tool\",\"content\":json.dumps(result),\"tool_call_id\":tool_call.id})\n",
    "    return results"
   ]
  },
  {
   "cell_type": "code",
   "execution_count": 14,
   "id": "18753592",
   "metadata": {},
   "outputs": [
    {
     "name": "stdout",
     "output_type": "stream",
     "text": [
      "Push:Recording this is reaaly hard question asked that I couldn't answer\n"
     ]
    },
    {
     "data": {
      "text/plain": [
       "{'recorded': 'ok'}"
      ]
     },
     "execution_count": 14,
     "metadata": {},
     "output_type": "execute_result"
    }
   ],
   "source": [
    "globals()[\"record_unknown_question\"](\"this is reaaly hard question\")\n"
   ]
  },
  {
   "cell_type": "code",
   "execution_count": 15,
   "id": "3f005746",
   "metadata": {},
   "outputs": [],
   "source": [
    "reader =PdfReader(\"./Hannah/Hannah_Linkedin.pdf\")\n",
    "linkedin=\"\"\n",
    "for page in reader.pages:\n",
    "    text= page.extract_text()\n",
    "    if text:\n",
    "        linkedin+=text\n",
    "with open(\"./Hannah/summary.txt\",\"r\",encoding=\"utf-8\") as f:\n",
    "    summary =f.read()\n",
    "name =\"Hannah Abraham\""
   ]
  },
  {
   "cell_type": "code",
   "execution_count": 16,
   "id": "bf5b95b9",
   "metadata": {},
   "outputs": [],
   "source": [
    "system_prompt = f\"You are acting as {name}. You are answering questions on {name}'s website, \\\n",
    "particularly questions related to {name}'s career, background, skills and experience. \\\n",
    "Your responsibility is to represent {name} for interactions on the website as faithfully as possible. \\\n",
    "You are given a summary of {name}'s background and LinkedIn profile which you can use to answer questions. \\\n",
    "Be professional and engaging, as if talking to a potential client or future employer who came across the website. \\\n",
    "If you don't know the answer to any question, use your record_unknown_question tool to record the question that you couldn't answer, even if it's about something trivial or unrelated to career. \\\n",
    "If the user is engaging in discussion, try to steer them towards getting in touch via email; ask for their email and record it using your record_user_details tool. \"\n",
    "\n",
    "system_prompt += f\"\\n\\n## Summary:\\n{summary}\\n\\n## LinkedIn Profile:\\n{linkedin}\\n\\n\"\n",
    "system_prompt += f\"With this context, please chat with the user, always staying in character as {name}.\"\n"
   ]
  },
  {
   "cell_type": "code",
   "execution_count": 17,
   "id": "c129efbc",
   "metadata": {},
   "outputs": [],
   "source": [
    "def chat(message, history):\n",
    "    messages =[{\"role\":\"system\",\"content\":system_prompt}] +history +[{\"role\":\"user\",\"content\":message}]\n",
    "    done =False\n",
    "    while not done:\n",
    "        response = openai.chat.completions.create(model=\"gpt-4o-mini\",messages=messages)\n",
    "        finish_reason = response.choices[0].finish_reason\n",
    "\n",
    "        if finish_reason ==\"tool_calls\":\n",
    "            message = response.choices[0].message\n",
    "            tool_calls =message.tool_calls\n",
    "            results = handle_tool_calls(tool_calls)\n",
    "            messages.append(message)\n",
    "            messages.extend(result)\n",
    "        else:\n",
    "            done=True\n",
    "    return response.choices[0].message.content"
   ]
  },
  {
   "cell_type": "code",
   "execution_count": 18,
   "id": "75e4e709",
   "metadata": {},
   "outputs": [
    {
     "name": "stdout",
     "output_type": "stream",
     "text": [
      "* Running on local URL:  http://127.0.0.1:7860\n",
      "* To create a public link, set `share=True` in `launch()`.\n"
     ]
    },
    {
     "data": {
      "text/html": [
       "<div><iframe src=\"http://127.0.0.1:7860/\" width=\"100%\" height=\"500\" allow=\"autoplay; camera; microphone; clipboard-read; clipboard-write;\" frameborder=\"0\" allowfullscreen></iframe></div>"
      ],
      "text/plain": [
       "<IPython.core.display.HTML object>"
      ]
     },
     "metadata": {},
     "output_type": "display_data"
    },
    {
     "data": {
      "text/plain": []
     },
     "execution_count": 18,
     "metadata": {},
     "output_type": "execute_result"
    }
   ],
   "source": [
    "gr.ChatInterface(chat,type=\"messages\").launch()"
   ]
  },
  {
   "cell_type": "code",
   "execution_count": null,
   "id": "2753b8bf",
   "metadata": {},
   "outputs": [],
   "source": []
  }
 ],
 "metadata": {
  "kernelspec": {
   "display_name": ".venv",
   "language": "python",
   "name": "python3"
  },
  "language_info": {
   "codemirror_mode": {
    "name": "ipython",
    "version": 3
   },
   "file_extension": ".py",
   "mimetype": "text/x-python",
   "name": "python",
   "nbconvert_exporter": "python",
   "pygments_lexer": "ipython3",
   "version": "3.12.11"
  }
 },
 "nbformat": 4,
 "nbformat_minor": 5
}
