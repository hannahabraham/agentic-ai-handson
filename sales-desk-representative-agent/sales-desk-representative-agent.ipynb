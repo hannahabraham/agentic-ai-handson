{
 "cells": [
  {
   "cell_type": "code",
   "execution_count": 1,
   "id": "73341461",
   "metadata": {},
   "outputs": [],
   "source": [
    "from dotenv import load_dotenv\n",
    "from agents import Agent, Runner, trace, function_tool\n",
    "from openai.types.responses import ResponseTextDeltaEvent\n",
    "from typing import Dict\n",
    "import sendgrid\n",
    "import os\n",
    "from sendgrid.helpers.mail import  Mail, Email, To, Content\n",
    "import asyncio"
   ]
  },
  {
   "cell_type": "code",
   "execution_count": 2,
   "id": "bd3ac688",
   "metadata": {},
   "outputs": [
    {
     "data": {
      "text/plain": [
       "True"
      ]
     },
     "execution_count": 2,
     "metadata": {},
     "output_type": "execute_result"
    }
   ],
   "source": [
    "load_dotenv(override=True)"
   ]
  },
  {
   "cell_type": "code",
   "execution_count": 3,
   "id": "9bb8f840",
   "metadata": {},
   "outputs": [
    {
     "name": "stdout",
     "output_type": "stream",
     "text": [
      "202\n"
     ]
    }
   ],
   "source": [
    "# Checking if we able to send emails\n",
    "\n",
    "def send_test_email():\n",
    "    sg = sendgrid.SendGridAPIClient(api_key=os.environ.get('SENDGRID_API_KEY'))\n",
    "    from_email=Email(\"hannahabraham20@gmail.com\")\n",
    "    to_email=To(\"hannah.abraham87@gmail.com\")\n",
    "    content = Content(\"text/plain\", \"This is an important test email\")\n",
    "    mail = Mail(from_email, to_email, \"Test email\", content).get()\n",
    "    response = sg.client.mail.send.post(request_body=mail)\n",
    "    print(response.status_code)\n",
    "\n",
    "send_test_email()"
   ]
  },
  {
   "cell_type": "markdown",
   "id": "39262170",
   "metadata": {},
   "source": [
    "### Agent Workflow"
   ]
  },
  {
   "cell_type": "code",
   "execution_count": 4,
   "id": "f385f449",
   "metadata": {},
   "outputs": [],
   "source": [
    "instructions1 = \"You are a sales agent working for ComplAI, \\\n",
    "a company that provides a SaaS tool for ensuring SOC2 compliance and preparing for audits, powered by AI. \\\n",
    "You write professional, serious cold emails.\"\n",
    "\n",
    "instructions2 = \"You are a humorous, engaging sales agent working for ComplAI, \\\n",
    "a company that provides a SaaS tool for ensuring SOC2 compliance and preparing for audits, powered by AI. \\\n",
    "You write witty, engaging cold emails that are likely to get a response.\"\n",
    "\n",
    "instructions3 = \"You are a busy sales agent working for ComplAI, \\\n",
    "a company that provides a SaaS tool for ensuring SOC2 compliance and preparing for audits, powered by AI. \\\n",
    "You write concise, to the point cold emails.\""
   ]
  },
  {
   "cell_type": "code",
   "execution_count": 5,
   "id": "abd16ce1",
   "metadata": {},
   "outputs": [],
   "source": [
    "sales_agent_1 = Agent(\n",
    "    name=\"Professional Sales Agent\",\n",
    "    instructions=instructions1,\n",
    "    model=\"gpt-4o-mini\"\n",
    ")\n",
    "\n",
    "sales_agent_2 = Agent(\n",
    "    name=\"Engaging Sales Agent\",\n",
    "    instructions=instructions1,\n",
    "    model=\"gpt-4o-mini\"\n",
    ")\n",
    "\n",
    "sales_agent_3 = Agent(\n",
    "    name=\"Busy Sales Agent\",\n",
    "    instructions=instructions1,\n",
    "    model=\"gpt-4o-mini\"\n",
    ")"
   ]
  },
  {
   "cell_type": "code",
   "execution_count": 6,
   "id": "7fde0392",
   "metadata": {},
   "outputs": [
    {
     "name": "stdout",
     "output_type": "stream",
     "text": [
      "Subject: Simplify Your SOC 2 Compliance with ComplAI\n",
      "\n",
      "Hi [Recipient's Name],\n",
      "\n",
      "I hope this message finds you well. My name is [Your Name], and I’m reaching out from ComplAI, where we are dedicated to streamlining the SOC 2 compliance process for businesses like yours.\n",
      "\n",
      "Navigating SOC 2 audits can be complex and time-consuming. ComplAI’s AI-powered SaaS tool simplifies this journey by providing a comprehensive framework to ensure compliance while saving you valuable time and resources. Our platform not only assists in maintaining compliance but also prepares your team for successful audits with minimal disruption to your operations.\n",
      "\n",
      "Here are a few key benefits our solution offers:\n",
      "\n",
      "- **Automated Compliance Tracking**: Stay updated with real-time compliance status and notifications.\n",
      "- **User-Friendly Interface**: Simplified dashboards make it easy for your team to engage with compliance requirements.\n",
      "- **Expert Guidance**: Access to compliance templates and documentation, tailored to your organizational needs.\n",
      "\n",
      "I would love to schedule a brief call to discuss how ComplAI can empower your organization in achieving SOC 2 compliance efficiently. Would you be available for a chat next week?\n",
      "\n",
      "Looking forward to your response.\n",
      "\n",
      "Best regards,\n",
      "\n",
      "[Your Name]  \n",
      "[Your Position]  \n",
      "ComplAI  \n",
      "[Your Phone Number]  \n",
      "[Your LinkedIn Profile]  \n",
      "[Website URL]  "
     ]
    }
   ],
   "source": [
    "result = Runner.run_streamed(sales_agent_1,input=\"Write a cold sales email\")\n",
    "async for event in result.stream_events():\n",
    "    if event.type ==\"raw_response_event\" and isinstance(event.data,ResponseTextDeltaEvent):\n",
    "        print(event.data.delta, end=\"\",flush=True)"
   ]
  },
  {
   "cell_type": "code",
   "execution_count": 7,
   "id": "cd07c446",
   "metadata": {},
   "outputs": [],
   "source": [
    "message =\"Write a cold sales email\"\n",
    "\n",
    "with trace(\"Parallel cold emails\"):\n",
    "    results = await asyncio.gather(\n",
    "        Runner.run(sales_agent_1,message),\n",
    "        Runner.run(sales_agent_2,message),\n",
    "        Runner.run(sales_agent_3,message)\n",
    "    )"
   ]
  },
  {
   "cell_type": "code",
   "execution_count": 8,
   "id": "5298a0db",
   "metadata": {},
   "outputs": [
    {
     "name": "stdout",
     "output_type": "stream",
     "text": [
      "Subject: Simplify Your SOC 2 Compliance Process with ComplAI\n",
      "\n",
      "Dear [Recipient's Name],\n",
      "\n",
      "I hope this message finds you well.\n",
      "\n",
      "Navigating the complexities of SOC 2 compliance can be challenging, especially as your organization continues to grow. At ComplAI, we specialize in streamlining the entire compliance process through our innovative SaaS tool, which leverages AI to ensure you meet all audit requirements efficiently.\n",
      "\n",
      "Our solution not only helps you maintain ongoing compliance but also prepares you for audits with minimal disruption to your operations. By automating many of the time-consuming tasks, we empower your team to focus on what truly matters—driving your business forward.\n",
      "\n",
      "I'd love to schedule a brief call to discuss how ComplAI can support your organization's compliance efforts and help you achieve peace of mind. Please let me know a convenient time for you, or feel free to book directly on my calendar [insert link].\n",
      "\n",
      "Thank you for considering ComplAI. I look forward to the opportunity to assist you.\n",
      "\n",
      "Best regards,\n",
      "\n",
      "[Your Name]  \n",
      "[Your Title]  \n",
      "ComplAI  \n",
      "[Your Phone Number]  \n",
      "[Your Email]  \n",
      "[Your Website]  \n",
      "\n",
      "\n",
      "Subject: Simplify Your SOC 2 Compliance Process\n",
      "\n",
      "Hi [Recipient's Name],\n",
      "\n",
      "I hope this message finds you well.\n",
      "\n",
      "I’m [Your Name], reaching out from ComplAI. We specialize in streamlining the SOC 2 compliance process through our cutting-edge AI-powered platform. As you know, meeting SOC 2 requirements can be a time-consuming and complex endeavor, often leading to audit challenges and added stress.\n",
      "\n",
      "Our tool not only simplifies the compliance journey but also enhances preparation for audits by automating documentation and ensuring adherence to necessary standards. Companies like [Similar Company/Industry] have already seen significant improvements in efficiency and reduced compliance costs by implementing our solution.\n",
      "\n",
      "I’d love the opportunity to discuss how ComplAI can help your team save time and avoid headaches during audits. Would you be available for a brief call next week?\n",
      "\n",
      "Looking forward to the possibility of working together.\n",
      "\n",
      "Best regards,\n",
      "\n",
      "[Your Full Name]  \n",
      "[Your Position]  \n",
      "ComplAI  \n",
      "[Your Phone Number]  \n",
      "[Your Email Address]  \n",
      "[Company Website]  \n",
      "\n",
      "\n",
      "Subject: Elevate Your SOC 2 Compliance Efforts with ComplAI\n",
      "\n",
      "Dear [Recipient's Name],\n",
      "\n",
      "I hope this message finds you well. My name is [Your Name], and I am with ComplAI, an innovative SaaS solution designed to streamline and simplify SOC 2 compliance and audit preparation.\n",
      "\n",
      "In today's evolving regulatory landscape, managing compliance can be a complex and time-consuming task. ComplAI leverages cutting-edge AI technology to not only enhance your compliance process but also to reduce the associated overhead costs. Our platform provides real-time monitoring, automated reporting, and tailored guidance, ensuring your organization remains compliant while allowing you to focus on your core business.\n",
      "\n",
      "Many of our clients have seen significant improvements in their efficiency and audit readiness since implementing ComplAI. I would love the opportunity to discuss how we can help your organization achieve similar results.\n",
      "\n",
      "Would you be available for a brief call to explore this further? Please let me know a time that works for you, and I will do my best to accommodate.\n",
      "\n",
      "Thank you for considering ComplAI as your compliance partner. I look forward to the possibility of working together.\n",
      "\n",
      "Best regards,\n",
      "\n",
      "[Your Name]  \n",
      "[Your Job Title]  \n",
      "ComplAI  \n",
      "[Your Phone Number]  \n",
      "[Your LinkedIn Profile]  \n",
      "[Your Company Website]\n",
      "\n",
      "\n"
     ]
    }
   ],
   "source": [
    "outputs = [result.final_output for result in results]\n",
    "\n",
    "for output in outputs:\n",
    "    print(output + \"\\n\\n\")"
   ]
  },
  {
   "cell_type": "code",
   "execution_count": 9,
   "id": "5b6fc0d6",
   "metadata": {},
   "outputs": [],
   "source": [
    "sales_picker = Agent(\n",
    "    name = \"sales_picker\",\n",
    "instructions=\"You pick the best cold sales email from the given options. \\\n",
    "Imagine you are a customer and pick the one you are most likely to respond to. \\\n",
    "Do not give an explanation; reply with the selected email only.\",\n",
    "model=\"gpt-4o-mini\")"
   ]
  },
  {
   "cell_type": "code",
   "execution_count": null,
   "id": "bea9c54a",
   "metadata": {},
   "outputs": [],
   "source": [
    "message = \"Write a cold sales email\"\n",
    "\n",
    "with trace(\"Selection from sales people\"):\n",
    "    results = await asyncio.gather(\n",
    "        Runner.run(sales_agent_1, message),\n",
    "        Runner.run(sales_agent_2, message),\n",
    "        Runner.run(sales_agent_3, message),\n",
    "    )\n",
    "    outputs = [result.final_output for result in results]\n",
    "\n",
    "    emails = \"Cold sales emails:\\n\\n\" + \"\\n\\nEmail:\\n\\n\".join(outputs)\n",
    "\n",
    "    best = await Runner.run(sales_picker, emails)\n",
    "\n",
    "    print(f\"Best sales email:\\n{best.final_output}\")\n"
   ]
  },
  {
   "cell_type": "markdown",
   "id": "9daad328",
   "metadata": {},
   "source": [
    "### Tools"
   ]
  },
  {
   "cell_type": "code",
   "execution_count": null,
   "id": "ce6e3732",
   "metadata": {},
   "outputs": [],
   "source": [
    "@function_tool\n",
    "def send_email_body(body:str):\n",
    "    sg = sendgrid.SendGridAPIClient(api_key=os.environ.get('SENDGRID_API_KEY'))\n",
    "    from_email=Email(\"hannahabraham20@gmail.com\")\n",
    "    to_email=To(\"hannah.abraham87@gmail.com\")\n",
    "    content = Content(\"text/plain\", body)\n",
    "    mail = Mail(from_email, to_email, \"Sales email\", content).get()\n",
    "    response = sg.client.mail.send.post(request_body=mail)\n",
    "    print(response.status_code)"
   ]
  },
  {
   "cell_type": "code",
   "execution_count": null,
   "id": "ffd9fc2c",
   "metadata": {},
   "outputs": [],
   "source": [
    "tool1 = sales_agent_1.as_tool(tool_name=\"sales_agent_1\",tool_description=\"Write a cold sales email\")\n",
    "tool1"
   ]
  },
  {
   "cell_type": "code",
   "execution_count": null,
   "id": "c0d205a3",
   "metadata": {},
   "outputs": [],
   "source": [
    "description = \"Write a cold sales email\"\n",
    "tool1 = sales_agent_1.as_tool(tool_name=\"sales_agent_1\",tool_description=description)\n",
    "tool2 = sales_agent_2.as_tool(tool_name=\"sales_agent_2\",tool_description=description)\n",
    "tool3 = sales_agent_3.as_tool(tool_name=\"sales_agent_3\",tool_description=description)\n"
   ]
  },
  {
   "cell_type": "code",
   "execution_count": null,
   "id": "792dd710",
   "metadata": {},
   "outputs": [],
   "source": [
    "tools =[tool1,tool2,tool3,send_email_body]\n",
    "tools"
   ]
  },
  {
   "cell_type": "markdown",
   "id": "a061b078",
   "metadata": {},
   "source": [
    "## Sales Manager  - Our Planning agent"
   ]
  },
  {
   "cell_type": "code",
   "execution_count": null,
   "id": "c3b6d86c",
   "metadata": {},
   "outputs": [],
   "source": [
    "instructions = \"\"\"\n",
    "You are a Sales Manager at ComplAI. Your goal is to find the single best cold sales email using the sales_agent tools.\n",
    " \n",
    "Follow these steps carefully:\n",
    "1. Generate Drafts: Use all three sales_agent tools to generate three different email drafts. Do not proceed until all three drafts are ready.\n",
    " \n",
    "2. Evaluate and Select: Review the drafts and choose the single best email using your judgment of which one is most effective.\n",
    " \n",
    "3. Use the send_email tool to send the best email (and only the best email) to the user.\n",
    " \n",
    "Crucial Rules:\n",
    "- You must use the sales agent tools to generate the drafts — do not write them yourself.\n",
    "- You must send ONE email using the send_email tool — never more than one.\n",
    "\"\"\"\n",
    "\n",
    "sales_manager = Agent(\n",
    "    name = \"sales_manager\",\n",
    "    instructions=instructions,\n",
    "    tools=tools,\n",
    "    model=\"gpt-4o-mini\")\n",
    "\n",
    "message = \"Send a cold sales email addressed to 'Dear CEO'\"\n",
    "\n",
    "with trace(\"Sales manager\"):\n",
    "    result = await Runner.run(sales_manager,message)\n"
   ]
  },
  {
   "cell_type": "markdown",
   "id": "1dfbca87",
   "metadata": {},
   "source": [
    "## Handoffs"
   ]
  },
  {
   "cell_type": "code",
   "execution_count": null,
   "id": "1d684513",
   "metadata": {},
   "outputs": [],
   "source": [
    "subject_instructions=\"You can write a subject for a cold sales email.\\\n",
    "    You are given a message and you need to write a subject for an email that is likely to get a response.\"\n",
    "\n",
    "html_instructions=\"You convert a text email body to an html email body \\\n",
    "    You are given a text email body which might have some markdown\\\n",
    "        and you need to convert it to an HTML email body with simple, clear, compelling layout and design\"\n",
    "\n",
    "subject_writer = Agent(name=\"Email subject writer\", instructions=subject_instructions, model=\"gpt-4o-mini\")\n",
    "subject_tool=subject_writer.as_tool(tool_name=\"subject_writer\",tool_description=\"Write a subject for a cold sales email\")\n",
    "\n",
    "html_writer = Agent(name=\"HTML email body convertor\", instructions=subject_instructions, model=\"gpt-4o-mini\")\n",
    "html_tool=html_writer.as_tool(tool_name=\"html_writer\",tool_description=\"WConvert a text email body to an HTML email body\")\n"
   ]
  },
  {
   "cell_type": "code",
   "execution_count": null,
   "id": "a9ec2c4a",
   "metadata": {},
   "outputs": [],
   "source": [
    "@function_tool\n",
    "def send_html_email(subject: str, html_body: str) -> Dict[str, str]:\n",
    "    \"\"\" Send out an email with the given subject and HTML body to all sales prospects \"\"\"\n",
    "    sg = sendgrid.SendGridAPIClient(api_key=os.environ.get('SENDGRID_API_KEY'))\n",
    "    from_email = Email(\"hannahabraham20@gmail.com\")  \n",
    "    to_email = To(\"hannah.abraham87@gmail.com\") \n",
    "    content = Content(\"text/html\", html_body)\n",
    "    mail = Mail(from_email, to_email, subject, content).get()\n",
    "    sg.client.mail.send.post(request_body=mail)\n",
    "    return {\"status\": \"success\"}"
   ]
  },
  {
   "cell_type": "markdown",
   "id": "7851c93b",
   "metadata": {},
   "source": []
  },
  {
   "cell_type": "code",
   "execution_count": null,
   "id": "5b19a5df",
   "metadata": {},
   "outputs": [],
   "source": [
    "tools =[subject_tool,html_tool,send_html_email]\n",
    "tools"
   ]
  },
  {
   "cell_type": "code",
   "execution_count": null,
   "id": "c70cd5ab",
   "metadata": {},
   "outputs": [],
   "source": [
    "instructions =\"You are an email formatter and sender. You receive the body of an email to be sent. \\\n",
    "You first use the subject_writer tool to write a subject for the email, then use the html_converter tool to convert the body to HTML. \\\n",
    "Finally, you use the send_html_email tool to send the email with the subject and HTML body.\"\n",
    "\n",
    "emailer_agent = Agent(name=\"Email manager\", instructions=instructions, tools=tools, model=\"gpt-4o-mini\", handoff_description=\"Convert an email to HTML and send it\")"
   ]
  },
  {
   "cell_type": "code",
   "execution_count": null,
   "id": "ccc90b78",
   "metadata": {},
   "outputs": [],
   "source": [
    "\n",
    "tools = [tool1,tool2,tool3]\n",
    "handoffs =[emailer_agent]\n",
    "print(tools)\n",
    "print(handoffs)"
   ]
  },
  {
   "cell_type": "code",
   "execution_count": null,
   "id": "153b0b9f",
   "metadata": {},
   "outputs": [],
   "source": [
    "sales_manager_instructions = \"\"\"\n",
    "You are a Sales Manager at ComplAI. Your goal is to find the single best cold sales email using the sales_agent tools.\n",
    " \n",
    "Follow these steps carefully:\n",
    "1. Generate Drafts: Use all three sales_agent tools to generate three different email drafts. Do not proceed until all three drafts are ready.\n",
    " \n",
    "2. Evaluate and Select: Review the drafts and choose the single best email using your judgment of which one is most effective.\n",
    "You can use the tools multiple times if you're not satisfied with the results from the first try.\n",
    " \n",
    "3. Handoff for Sending: Pass ONLY the winning email draft to the 'Email Manager' agent. The Email Manager will take care of formatting and sending.\n",
    " \n",
    "Crucial Rules:\n",
    "- You must use the sales agent tools to generate the drafts — do not write them yourself.\n",
    "- You must hand off exactly ONE email to the Email Manager — never more than one.\n",
    "\"\"\"\n",
    "\n",
    "sales_manager =Agent(\n",
    "    name=\"Sales Manager\",\n",
    "    tools=tools,\n",
    "    instructions=sales_manager_instructions,\n",
    "    handoffs=handoffs,\n",
    "    model=\"gpt-4o-mini\"\n",
    ")\n",
    "\n",
    "message = \"Send out a cold sales email addressed to Dear CEO from Alice\"\n",
    "\n",
    "\n",
    "with trace(\"Automated SDR\"):\n",
    "    result =await Runner.run(sales_manager,message)"
   ]
  }
 ],
 "metadata": {
  "kernelspec": {
   "display_name": ".venv",
   "language": "python",
   "name": "python3"
  },
  "language_info": {
   "codemirror_mode": {
    "name": "ipython",
    "version": 3
   },
   "file_extension": ".py",
   "mimetype": "text/x-python",
   "name": "python",
   "nbconvert_exporter": "python",
   "pygments_lexer": "ipython3",
   "version": "3.12.11"
  }
 },
 "nbformat": 4,
 "nbformat_minor": 5
}
